{
 "cells": [
  {
   "cell_type": "markdown",
   "id": "568d3808-eb49-4fa0-939b-f4acb1d2a429",
   "metadata": {},
   "source": [
    "### Import libraries"
   ]
  },
  {
   "cell_type": "code",
   "execution_count": 27,
   "id": "0c1c22ef-ac57-4e22-be38-559692e55533",
   "metadata": {},
   "outputs": [],
   "source": [
    "import pandas as pd\n",
    "import json\n",
    "import shutil\n",
    "import os\n",
    "import json"
   ]
  },
  {
   "cell_type": "markdown",
   "id": "3ab55638-3422-4b79-a9ec-b26f9c19c0f9",
   "metadata": {},
   "source": [
    "### Class hierarchy"
   ]
  },
  {
   "cell_type": "code",
   "execution_count": 28,
   "id": "07443925-14b9-49ee-ac5e-20d22f7095be",
   "metadata": {},
   "outputs": [
    {
     "data": {
      "text/html": [
       "\n",
       "        <iframe\n",
       "            width=\"1500\"\n",
       "            height=\"1500\"\n",
       "            src=\"https://storage.googleapis.com/openimages/2018_04/bbox_labels_600_hierarchy_visualizer/circle.html\"\n",
       "            frameborder=\"0\"\n",
       "            allowfullscreen\n",
       "            \n",
       "        ></iframe>\n",
       "        "
      ],
      "text/plain": [
       "<IPython.lib.display.IFrame at 0x118141be0>"
      ]
     },
     "execution_count": 28,
     "metadata": {},
     "output_type": "execute_result"
    }
   ],
   "source": [
    "from IPython.display import IFrame\n",
    "\n",
    "IFrame(src=\"https://storage.googleapis.com/openimages/2018_04/bbox_labels_600_hierarchy_visualizer/circle.html\", width = 1500, height=1500)"
   ]
  },
  {
   "cell_type": "markdown",
   "id": "b07f3043-42c5-4425-9301-7fde7f1ba71f",
   "metadata": {},
   "source": [
    "### Categories"
   ]
  },
  {
   "cell_type": "code",
   "execution_count": 29,
   "id": "3c00ef38-249d-424a-9300-749918b345eb",
   "metadata": {},
   "outputs": [],
   "source": [
    "categories = [\"Food\", \"Vehicle\", \"Clothing\", \"Sports equipment\", \"Person\", \"Tool\", \"Kitchenware\", \"Furniture\"]"
   ]
  },
  {
   "cell_type": "markdown",
   "id": "8456e194-529d-4ffd-92d1-8160fe1401d7",
   "metadata": {},
   "source": [
    "### Retrieve label names"
   ]
  },
  {
   "cell_type": "code",
   "execution_count": 30,
   "id": "6ae6c645-d29a-4209-bc74-af017f25cf86",
   "metadata": {},
   "outputs": [
    {
     "data": {
      "text/html": [
       "<div>\n",
       "<style scoped>\n",
       "    .dataframe tbody tr th:only-of-type {\n",
       "        vertical-align: middle;\n",
       "    }\n",
       "\n",
       "    .dataframe tbody tr th {\n",
       "        vertical-align: top;\n",
       "    }\n",
       "\n",
       "    .dataframe thead th {\n",
       "        text-align: right;\n",
       "    }\n",
       "</style>\n",
       "<table border=\"1\" class=\"dataframe\">\n",
       "  <thead>\n",
       "    <tr style=\"text-align: right;\">\n",
       "      <th></th>\n",
       "      <th>LabelName</th>\n",
       "      <th>DisplayName</th>\n",
       "    </tr>\n",
       "  </thead>\n",
       "  <tbody>\n",
       "    <tr>\n",
       "      <th>0</th>\n",
       "      <td>/m/0c4936</td>\n",
       "      <td>'Nduja</td>\n",
       "    </tr>\n",
       "    <tr>\n",
       "      <th>1</th>\n",
       "      <td>/m/06w6y06</td>\n",
       "      <td>10 cane</td>\n",
       "    </tr>\n",
       "    <tr>\n",
       "      <th>2</th>\n",
       "      <td>/m/079zcf</td>\n",
       "      <td>100 metres hurdles</td>\n",
       "    </tr>\n",
       "    <tr>\n",
       "      <th>3</th>\n",
       "      <td>/m/02pv3hz</td>\n",
       "      <td>100plus</td>\n",
       "    </tr>\n",
       "    <tr>\n",
       "      <th>4</th>\n",
       "      <td>/m/0bb154</td>\n",
       "      <td>110 metres hurdles</td>\n",
       "    </tr>\n",
       "    <tr>\n",
       "      <th>...</th>\n",
       "      <td>...</td>\n",
       "      <td>...</td>\n",
       "    </tr>\n",
       "    <tr>\n",
       "      <th>20926</th>\n",
       "      <td>/m/05_5x82</td>\n",
       "      <td>Škoda rapid</td>\n",
       "    </tr>\n",
       "    <tr>\n",
       "      <th>20927</th>\n",
       "      <td>/m/0d96wb</td>\n",
       "      <td>Škoda roomster</td>\n",
       "    </tr>\n",
       "    <tr>\n",
       "      <th>20928</th>\n",
       "      <td>/m/03vql3</td>\n",
       "      <td>Škoda superb</td>\n",
       "    </tr>\n",
       "    <tr>\n",
       "      <th>20929</th>\n",
       "      <td>/m/05_5ppm</td>\n",
       "      <td>Škoda yeti</td>\n",
       "    </tr>\n",
       "    <tr>\n",
       "      <th>20930</th>\n",
       "      <td>/m/02sjdf</td>\n",
       "      <td>Żubrówka</td>\n",
       "    </tr>\n",
       "  </tbody>\n",
       "</table>\n",
       "<p>20931 rows × 2 columns</p>\n",
       "</div>"
      ],
      "text/plain": [
       "        LabelName         DisplayName\n",
       "0       /m/0c4936              'Nduja\n",
       "1      /m/06w6y06             10 cane\n",
       "2       /m/079zcf  100 metres hurdles\n",
       "3      /m/02pv3hz             100plus\n",
       "4       /m/0bb154  110 metres hurdles\n",
       "...           ...                 ...\n",
       "20926  /m/05_5x82         Škoda rapid\n",
       "20927   /m/0d96wb      Škoda roomster\n",
       "20928   /m/03vql3        Škoda superb\n",
       "20929  /m/05_5ppm          Škoda yeti\n",
       "20930   /m/02sjdf            Żubrówka\n",
       "\n",
       "[20931 rows x 2 columns]"
      ]
     },
     "execution_count": 30,
     "metadata": {},
     "output_type": "execute_result"
    }
   ],
   "source": [
    "labels = pd.read_csv('./labels.csv')\n",
    "\n",
    "labels"
   ]
  },
  {
   "cell_type": "markdown",
   "id": "36275d31-f2ac-4b28-9b7d-520a3b1696b5",
   "metadata": {},
   "source": [
    "### Get category labels"
   ]
  },
  {
   "cell_type": "code",
   "execution_count": 31,
   "id": "d1db6031-e738-4b83-991c-50e0ef5215fe",
   "metadata": {},
   "outputs": [
    {
     "data": {
      "text/plain": [
       "{'Food': '/m/02wbm',\n",
       " 'Vehicle': '/m/07yv9',\n",
       " 'Clothing': '/m/09j2d',\n",
       " 'Sports equipment': '/m/05y5lj',\n",
       " 'Person': '/m/01g317',\n",
       " 'Tool': '/m/07k1x',\n",
       " 'Kitchenware': '/m/03_wxk',\n",
       " 'Furniture': '/m/0c_jw'}"
      ]
     },
     "execution_count": 31,
     "metadata": {},
     "output_type": "execute_result"
    }
   ],
   "source": [
    "category_labels = {}\n",
    "for category in categories:\n",
    "    category_labels[category] = labels[labels[\"DisplayName\"] == category][\"LabelName\"].item()\n",
    "\n",
    "category_labels"
   ]
  },
  {
   "cell_type": "markdown",
   "id": "b3b5810f-f55e-4886-a0a3-f5dbe468b53c",
   "metadata": {},
   "source": [
    "### Get Subcategory labels"
   ]
  },
  {
   "cell_type": "code",
   "execution_count": 32,
   "id": "1227d9eb-09dd-4038-90c8-c1efa8d16ebf",
   "metadata": {},
   "outputs": [],
   "source": [
    "def extractSubCategories(subcategory, subcategoryLabels):\n",
    "    \n",
    "    for info in subcategory:\n",
    "        subcategoryLabels.append(info[\"LabelName\"])\n",
    "        if \"Subcategory\" in info:\n",
    "            extractSubCategories(info[\"Subcategory\"], subcategoryLabels)\n",
    "    return\n",
    "\n",
    "\n",
    "file = open('hierarchy.json')\n",
    "hierarchy = json.load(file)\n",
    "  \n",
    "category_all_labels = {}\n",
    "for display,label in category_labels.items():\n",
    "    for category in hierarchy[\"Subcategory\"]:\n",
    "        if category[\"LabelName\"] == label:\n",
    "            subcategoryLabels = [label]\n",
    "            extractSubCategories(category[\"Subcategory\"], subcategoryLabels)\n",
    "            category_all_labels[display] = subcategoryLabels\n",
    "    \n",
    "file.close()\n",
    "\n",
    "with open(\"category_labels.json\", \"w\") as outfile:\n",
    "    json.dump(category_all_labels, outfile)"
   ]
  },
  {
   "cell_type": "markdown",
   "id": "beb916e3-c0f6-44bb-a537-f3856191793b",
   "metadata": {},
   "source": [
    "### Download images"
   ]
  },
  {
   "cell_type": "markdown",
   "id": "f3ac6125-ff7d-44f0-b87e-48277e6931ba",
   "metadata": {},
   "source": [
    "#### Validation"
   ]
  },
  {
   "cell_type": "markdown",
   "id": "29778b1e-b319-4b60-97f5-a59837852f9a",
   "metadata": {},
   "source": [
    "Generate download `.txt` files for each category.  "
   ]
  },
  {
   "cell_type": "code",
   "execution_count": 19,
   "id": "0cf9dc0f-f71b-4bfc-9416-66b3a661e7c2",
   "metadata": {},
   "outputs": [],
   "source": [
    "val_human_labels = pd.read_csv('./validation_data/val-human-imagelabels.csv')\n",
    "val_seg = pd.read_csv('./validation_data/val-segmentation.csv')\n",
    "\n",
    "# Only get images with 100% label confidence\n",
    "val_human_labels = val_human_labels[val_human_labels[\"Confidence\"] == 1.0]\n",
    "\n",
    "for category, labels in category_all_labels.items():\n",
    "    human_ver_category_imageIDs = list(val_human_labels.loc[val_human_labels['LabelName'].isin(category_all_labels[category])][\"ImageID\"])\n",
    "    human_ver_category_imageIDs = list(val_seg.loc[val_seg['ImageID'].isin(human_ver_category_imageIDs)][\"ImageID\"])\n",
    "    human_ver_category_imageIDs = [*set(human_ver_category_imageIDs)]\n",
    "    \n",
    "    \n",
    "    file_name =  f\"{category.split(' ')[0]}_{category.split(' ')[1]}\".lower() if len(category.split(' ')) > 1 else category.lower()\n",
    "    file = open(f\"./validation_data/{file_name}.txt\", \"w\")\n",
    "    lines = []\n",
    "    for imageID in human_ver_category_imageIDs:\n",
    "        lines.append(f\"validation/{imageID} \\n\")\n",
    "\n",
    "    file.writelines(lines)\n",
    "    file.close()"
   ]
  },
  {
   "cell_type": "markdown",
   "id": "1db567c7-2d2d-459a-b511-8b7e9578de57",
   "metadata": {},
   "source": [
    "If your system is Linux compatible run the cell below to automatically download the data needed.\n",
    "If not Linux compatible then follow then after downloading all the `.txt.` files, run the following command to start downloading the images listed in the `.txt` files.  \n",
    "```python\n",
    "python downloader.py $IMAGE_LIST_FILE --download_folder=$DOWNLOAD_FOLDER --num_processes=5\n",
    "```\n",
    "Where `IMAGE_LIST_FILE` => `./validation_data/${category}.txt` and `DOWNLOAD_FOLDER` => `./images/validation/${category}`"
   ]
  },
  {
   "cell_type": "code",
   "execution_count": 26,
   "id": "b5b8ddaa-8c8d-477d-bf13-f83c815c975d",
   "metadata": {},
   "outputs": [
    {
     "name": "stdout",
     "output_type": "stream",
     "text": [
      "Downloading images:  26%|█████▏              | 464/1773 [00:18<01:04, 20.45it/s]^C\n"
     ]
    }
   ],
   "source": [
    "!categories=(\"food\" \"vehicle\" \"clothing\" \"sports_equipment\" \"person\" \"tool\" \"kitchenware\" \"furniture\"); for category in \"${categories[@]}\"; do mkdir -p ./images/validation/${category} && python ./downloader.py ./validation_data/${category}.txt --download_folder=./images/validation/${category}/ --num_processes=5; done"
   ]
  },
  {
   "cell_type": "markdown",
   "id": "f66262e4-ec53-4a42-b1b7-39a22c28e08f",
   "metadata": {},
   "source": [
    "#### Test"
   ]
  },
  {
   "cell_type": "markdown",
   "id": "6cf6d98f-19f8-449b-a415-73091f4f5feb",
   "metadata": {},
   "source": [
    "Generate download `.txt` files for each category.  "
   ]
  },
  {
   "cell_type": "code",
   "execution_count": 20,
   "id": "9c4c0340-52c8-42ca-b4f4-c2d9f1e61f41",
   "metadata": {},
   "outputs": [],
   "source": [
    "test_human_labels = pd.read_csv('./test_data/test-human-imagelabels.csv')\n",
    "test_seg = pd.read_csv('./test_data/test-segmentation.csv')\n",
    "\n",
    "# Only get images with 100% label confidence\n",
    "test_human_labels = test_human_labels[test_human_labels[\"Confidence\"] == 1.0]\n",
    "\n",
    "for category, labels in category_all_labels.items():\n",
    "    human_ver_category_imageIDs = list(test_human_labels.loc[test_human_labels['LabelName'].isin(category_all_labels[category])][\"ImageID\"])\n",
    "    human_ver_category_imageIDs = list(test_seg.loc[test_seg['ImageID'].isin(human_ver_category_imageIDs)][\"ImageID\"])\n",
    "    human_ver_category_imageIDs = [*set(human_ver_category_imageIDs)]\n",
    "    \n",
    "    file_name =  f\"{category.split(' ')[0]}_{category.split(' ')[1]}\".lower() if len(category.split(' ')) > 1 else category.lower()\n",
    "    file = open(f\"./test_data/{file_name}.txt\", \"w\")\n",
    "    lines = []\n",
    "    for imageID in human_ver_category_imageIDs:\n",
    "        lines.append(f\"test/{imageID} \\n\")\n",
    "\n",
    "    file.writelines(lines)\n",
    "    file.close()"
   ]
  },
  {
   "cell_type": "markdown",
   "id": "20cbb5b8-1460-4934-baec-b05936152643",
   "metadata": {},
   "source": [
    "If your system is Linux compatible run the cell below to automatically download the data needed.\n",
    "If not Linux compatible then follow then after downloading all the `.txt.` files, run the following command to start downloading the images listed in the `.txt` files.  \n",
    "```python\n",
    "python downloader.py $IMAGE_LIST_FILE --download_folder=$DOWNLOAD_FOLDER --num_processes=5\n",
    "```\n",
    "Where `IMAGE_LIST_FILE` => `./test_data/${category}.txt` and `DOWNLOAD_FOLDER` => `./images/test/${category}`"
   ]
  },
  {
   "cell_type": "code",
   "execution_count": null,
   "id": "bce5806b-453f-4768-aaf3-8b4993c27f12",
   "metadata": {},
   "outputs": [],
   "source": [
    "!categories=(\"food\" \"vehicle\" \"clothing\" \"sports_equipment\" \"person\" \"tool\" \"kitchenware\" \"furniture\"); for category in \"${categories[@]}\"; do mkdir -p ./images/test/${category} && python ./downloader.py ./test_data/${category}.txt --download_folder=./images/test/${category}/ --num_processes=5; done"
   ]
  },
  {
   "cell_type": "markdown",
   "id": "e2f4fb1b-fce4-4be1-8ce0-3ce168c5ba4f",
   "metadata": {},
   "source": [
    "#### Training"
   ]
  },
  {
   "cell_type": "markdown",
   "id": "a915bb30-a1f3-464f-a3ec-ba7b6c04faaa",
   "metadata": {},
   "source": [
    "Generate download `.txt` files for each category.\n",
    "`train-human-imagelabels.csv` and `train-segmentation.csv` files need to be downloaded before running the below cell as they were too big (>100MB) to push to GitHub.  \n",
    "Download `train-human-imagelabels.csv` from here, https://storage.googleapis.com/openimages/v7/oidv7-train-annotations-human-imagelabels.csv  \n",
    "Download `train-segmentation.csv` from here, https://storage.googleapis.com/openimages/v5/train-annotations-object-segmentation.csv  \n",
    "After downloading the two files above rename them accordingly and put them in the `train_data` folder."
   ]
  },
  {
   "cell_type": "code",
   "execution_count": 21,
   "id": "0050dace-1053-421e-87a4-72f01d2218e5",
   "metadata": {},
   "outputs": [],
   "source": [
    "train_human_labels = pd.read_csv('./train_data/train-human-imagelabels.csv')\n",
    "train_seg = pd.read_csv('./train_data/train-segmentation.csv')\n",
    "\n",
    "# Only get images with 100% label confidence\n",
    "train_human_labels = train_human_labels[train_human_labels[\"Confidence\"] == 1.0]\n",
    "\n",
    "for category, labels in category_all_labels.items():\n",
    "    human_ver_category_imageIDs = list(train_human_labels.loc[train_human_labels['LabelName'].isin(category_all_labels[category])][\"ImageID\"])\n",
    "    human_ver_category_imageIDs = list(train_seg.loc[train_seg['ImageID'].isin(human_ver_category_imageIDs)][\"ImageID\"])\n",
    "    human_ver_category_imageIDs = [*set(human_ver_category_imageIDs)]\n",
    "    \n",
    "    file_name =  f\"{category.split(' ')[0]}_{category.split(' ')[1]}\".lower() if len(category.split(' ')) > 1 else category.lower()\n",
    "    file = open(f\"./train_data/{file_name}.txt\", \"w\")\n",
    "    lines = []\n",
    "    for imageID in human_ver_category_imageIDs:\n",
    "        lines.append(f\"train/{imageID} \\n\")\n",
    "\n",
    "    file.writelines(lines)\n",
    "    file.close()"
   ]
  },
  {
   "cell_type": "markdown",
   "id": "cd99cfc6-68fe-4597-a75a-69431b300da1",
   "metadata": {},
   "source": [
    "If your system is Linux compatible run the cell below to automatically download the data needed.\n",
    "If not Linux compatible then follow then after downloading all the `.txt.` files, run the following command to start downloading the images listed in the `.txt` files.  \n",
    "```python\n",
    "python downloader.py $IMAGE_LIST_FILE --download_folder=$DOWNLOAD_FOLDER --num_processes=5\n",
    "```\n",
    "Where `IMAGE_LIST_FILE` => `./train_data/${category}.txt` and `DOWNLOAD_FOLDER` => `./images/train/${category}`"
   ]
  },
  {
   "cell_type": "code",
   "execution_count": null,
   "id": "91d92e3e-4125-473e-8546-1b0e3fdb6f5a",
   "metadata": {},
   "outputs": [],
   "source": [
    "!categories=(\"food\" \"vehicle\" \"clothing\" \"sports_equipment\" \"person\" \"tool\" \"kitchenware\" \"furniture\"); for category in \"${categories[@]}\"; do mkdir -p ./images/train/${category} && python ./downloader.py ./train_data/${category}.txt --download_folder=./images/train/${category}/ --num_processes=5; done"
   ]
  }
 ],
 "metadata": {
  "kernelspec": {
   "display_name": "Python 3 (ipykernel)",
   "language": "python",
   "name": "python3"
  },
  "language_info": {
   "codemirror_mode": {
    "name": "ipython",
    "version": 3
   },
   "file_extension": ".py",
   "mimetype": "text/x-python",
   "name": "python",
   "nbconvert_exporter": "python",
   "pygments_lexer": "ipython3",
   "version": "3.9.12"
  }
 },
 "nbformat": 4,
 "nbformat_minor": 5
}
