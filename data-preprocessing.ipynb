{
 "cells": [
  {
   "cell_type": "code",
   "execution_count": 1,
   "id": "eff43e88-a373-4340-a6b9-3e71650c856b",
   "metadata": {},
   "outputs": [],
   "source": [
    "import pandas as pd\n",
    "import json\n",
    "import shutil\n",
    "import os\n",
    "import json"
   ]
  },
  {
   "cell_type": "code",
   "execution_count": 2,
   "id": "20a2c08f-4bbb-406c-a67d-c0babe23f02b",
   "metadata": {},
   "outputs": [],
   "source": [
    "f = open('category_labels.json')  \n",
    "category_all_labels = json.load(f)\n",
    "f.close()"
   ]
  },
  {
   "cell_type": "markdown",
   "id": "f08d3d2f-7f63-4e43-9f33-55d791b32ada",
   "metadata": {},
   "source": [
    "### Download Masks"
   ]
  },
  {
   "cell_type": "markdown",
   "id": "7458664e-ce46-4b30-9890-74eba0bf1665",
   "metadata": {},
   "source": [
    "#### Validation"
   ]
  },
  {
   "cell_type": "markdown",
   "id": "1cff11a2-af76-417f-9bda-8ea6e54cbc2a",
   "metadata": {},
   "source": [
    "Download segmentation masks for validation dataset from here, https://storage.googleapis.com/openimages/web/download_v7.html  \n",
    "Once downloaded, unzip and move all the masks into a single directory called `validation_masks`.  \n",
    "Run the cell below to format the mask names as per the requirement of the inpainting model.  \n",
    "The cell renames the mask in the format `[images_name]_maskXXX[image_suffix]` and moves it to a common `masks` folder. "
   ]
  },
  {
   "cell_type": "code",
   "execution_count": null,
   "id": "2702bedf-a9fb-4436-b114-50f87fba707d",
   "metadata": {},
   "outputs": [],
   "source": [
    "val_human_labels = pd.read_csv('./validation_data/val-human-imagelabels.csv')\n",
    "val_seg = pd.read_csv('./validation_data/val-segmentation.csv')\n",
    "\n",
    "val_human_labels = val_human_labels[val_human_labels[\"Confidence\"] == 1.0]\n",
    "\n",
    "for category, labels in category_all_labels.items():\n",
    "    human_ver_category_imageIDs = list(val_human_labels.loc[val_human_labels['LabelName'].isin(category_all_labels[category])][\"ImageID\"])\n",
    "    human_ver_category_masks = list(val_seg.loc[val_seg['ImageID'].isin(human_ver_category_imageIDs)][\"MaskPath\"])\n",
    "\n",
    "    target = f\"./masks/validation/{category.lower()}\"\n",
    "    isExist = os.path.exists(target)\n",
    "    if not isExist:\n",
    "        os.makedirs(target)\n",
    "            \n",
    "    count = {}\n",
    "    for path in human_ver_category_masks:\n",
    "        parts = path.split(\"_\")\n",
    "\n",
    "        imageID = parts[0]\n",
    "\n",
    "        if parts[0] not in count:\n",
    "            count[imageID] = 1\n",
    "        else:\n",
    "            count[imageID] += 1\n",
    "\n",
    "        new_path = f\"{imageID}_mask{'{0:03}'.format(count[imageID])}.png\" \n",
    "            \n",
    "        shutil.copyfile(f\"./validation_masks/{path}\", f\"{target}/{new_path}\")"
   ]
  },
  {
   "cell_type": "markdown",
   "id": "66ff050c-2f7e-427c-b75f-30838737f961",
   "metadata": {},
   "source": [
    "#### Test"
   ]
  },
  {
   "cell_type": "markdown",
   "id": "9cc351af-1af7-469a-a8a4-2b0323dd0e64",
   "metadata": {},
   "source": [
    "Download segmentation masks for test dataset from here, https://storage.googleapis.com/openimages/web/download_v7.html  \n",
    "Once downloaded, unzip and move all the masks into a single directory called `test_masks`.  \n",
    "Run the cell below to format the mask names as per the requirement of the inpainting model.  \n",
    "The cell renames the mask and moves it to a common `masks` folder. "
   ]
  },
  {
   "cell_type": "code",
   "execution_count": null,
   "id": "dbf3770b-41c6-41b1-9567-f3cae449cd99",
   "metadata": {},
   "outputs": [],
   "source": [
    "test_human_labels = pd.read_csv('./test_data/test-human-imagelabels.csv')\n",
    "test_seg = pd.read_csv('./test_data/test-segmentation.csv')\n",
    "\n",
    "# Only get images with 100% label confidence\n",
    "test_human_labels = test_human_labels[test_human_labels[\"Confidence\"] == 1.0]\n",
    "\n",
    "for category, labels in category_all_labels.items():\n",
    "    human_ver_category_imageIDs = list(test_human_labels.loc[test_human_labels['LabelName'].isin(category_all_labels[category])][\"ImageID\"])\n",
    "    human_ver_category_imageIDs = list(test_seg.loc[test_seg['ImageID'].isin(human_ver_category_imageIDs)][\"ImageID\"])\n",
    "    human_ver_category_imageIDs = [*set(human_ver_category_imageIDs)]\n",
    "    \n",
    "    file = open(f\"./test_data/{category}.txt\", \"w\")\n",
    "    lines = []\n",
    "    for imageID in human_ver_category_imageIDs:\n",
    "        lines.append(f\"test/{imageID} \\n\")\n",
    "\n",
    "    file.writelines(lines)\n",
    "    file.close()"
   ]
  },
  {
   "cell_type": "markdown",
   "id": "8b063461-9468-401a-8bb4-ae128c44d13b",
   "metadata": {},
   "source": [
    "#### Training"
   ]
  },
  {
   "cell_type": "markdown",
   "id": "c7b30588-a74f-4355-b1eb-035251d74c95",
   "metadata": {},
   "source": [
    "Download segmentation masks for training dataset from here, https://storage.googleapis.com/openimages/web/download_v7.html  \n",
    "Once downloaded, unzip and move all the masks into a single directory called `train_masks`.  \n",
    "Run the cell below to format the mask names as per the requirement of the inpainting model.  \n",
    "The cell renames the mask and moves it to a common `masks` folder. "
   ]
  },
  {
   "cell_type": "code",
   "execution_count": null,
   "id": "967fcd1f-2cc3-476e-a2af-18251ee392f5",
   "metadata": {},
   "outputs": [],
   "source": [
    "for category, labels in category_all_labels.items():\n",
    "    human_ver_category_imageIDs = list(train_human_labels.loc[train_human_labels['LabelName'].isin(category_all_labels[category])][\"ImageID\"])\n",
    "    human_ver_category_masks = list(train_seg.loc[train_seg['ImageID'].isin(human_ver_category_imageIDs)][\"MaskPath\"])\n",
    "\n",
    "    target = f\"./masks/train/{category.lower()}\"\n",
    "    isExist = os.path.exists(target)\n",
    "    if not isExist:\n",
    "        os.makedirs(target)\n",
    "            \n",
    "    count = {}\n",
    "    for path in human_ver_category_masks:\n",
    "        parts = path.split(\"_\")\n",
    "\n",
    "        imageID = parts[0]\n",
    "\n",
    "        if parts[0] not in count:\n",
    "            count[imageID] = 1\n",
    "        else:\n",
    "            count[imageID] += 1\n",
    "\n",
    "        new_path = f\"{imageID}_mask{'{0:03}'.format(count[imageID])}.png\" \n",
    "            \n",
    "        shutil.copyfile(f\"./train_masks/{path}\", f\"{target}/{new_path}\")"
   ]
  },
  {
   "cell_type": "markdown",
   "id": "acd13c54-6099-42ed-8337-10a785386a10",
   "metadata": {},
   "source": [
    "### Images and Masks"
   ]
  },
  {
   "cell_type": "markdown",
   "id": "6261d03c-5b09-4cf9-8f13-531f5d05b13a",
   "metadata": {},
   "source": [
    "Gather images and associated masks for each category and into a unified folder structure."
   ]
  },
  {
   "cell_type": "markdown",
   "id": "82d80ec1-8b38-4cd8-9238-7aec63e0d84a",
   "metadata": {},
   "source": [
    "#### Validation"
   ]
  },
  {
   "cell_type": "code",
   "execution_count": null,
   "id": "07323f18-3c76-4f10-b583-4e077fd996b1",
   "metadata": {},
   "outputs": [],
   "source": [
    "!categories=(\"food\" \"vehicle\" \"clothing\" \"sports_equipment\" \"person\" \"tool\" \"kitchenware\" \"furniture\"); for category in \"${categories[@]}\"; do mkdir -p ./images_and_masks/validation/${category} && cp ./images/validation/${category}/* ./masks/validation/${category}/* ./images_and_masks/validation/${category}/; done"
   ]
  },
  {
   "cell_type": "markdown",
   "id": "50972b2f-5783-42d1-8f4d-4efbf8f748ad",
   "metadata": {},
   "source": [
    "#### Test"
   ]
  },
  {
   "cell_type": "code",
   "execution_count": null,
   "id": "a6522c6e-497b-4d5d-ab26-638d1edb89fa",
   "metadata": {},
   "outputs": [],
   "source": [
    "!categories=(\"food\" \"vehicle\" \"clothing\" \"sports_equipment\" \"person\" \"tool\" \"kitchenware\" \"furniture\"); for category in \"${categories[@]}\"; do mkdir -p ./images_and_masks/test/${category} && cp ./images/test/${category}/* ./masks/test/${category}/* ./images_and_masks/test/${category}/; done"
   ]
  },
  {
   "cell_type": "markdown",
   "id": "86a73728-3884-429c-a5b5-c85144422b1a",
   "metadata": {},
   "source": [
    "#### Training"
   ]
  },
  {
   "cell_type": "code",
   "execution_count": null,
   "id": "ec0ce9ed-fa68-4f1e-a0a5-8fd90775599e",
   "metadata": {},
   "outputs": [],
   "source": [
    "!categories=(\"food\" \"vehicle\" \"clothing\" \"sports_equipment\" \"person\" \"tool\" \"kitchenware\" \"furniture\"); for category in \"${categories[@]}\"; do mkdir -p ./images_and_masks/train/${category} && cp ./images/train/${category}/* ./masks/train/${category}/* ./images_and_masks/train/${category}/; done"
   ]
  },
  {
   "cell_type": "markdown",
   "id": "42079719-1c8d-4145-a3a0-60c81ebdc92b",
   "metadata": {},
   "source": [
    "### Resize images to 512x512"
   ]
  },
  {
   "cell_type": "code",
   "execution_count": null,
   "id": "9976f17d-a729-4277-80f1-a9317c06d34d",
   "metadata": {},
   "outputs": [],
   "source": [
    "!pip install Pillow"
   ]
  },
  {
   "cell_type": "code",
   "execution_count": null,
   "id": "ba85485e-23d3-4846-82d7-a24635090936",
   "metadata": {},
   "outputs": [],
   "source": [
    "categories = [\"food\",\"vehicle\",\"clothing\",\"sports_equipment\",\"person\",\"tool\",\"kitchenware\",\"furniture\"]"
   ]
  },
  {
   "cell_type": "markdown",
   "id": "0933d64f-0c52-4e83-a14d-cab0cdb70605",
   "metadata": {},
   "source": [
    "#### Validation"
   ]
  },
  {
   "cell_type": "code",
   "execution_count": null,
   "id": "961e84e1-bfe9-409e-9575-41859c830fb4",
   "metadata": {},
   "outputs": [],
   "source": [
    "import glob\n",
    "import os\n",
    "from PIL import Image\n",
    "\n",
    "for category in categories:\n",
    "    images = glob.glob(f'/home/ramaraja/lama/open-images/images_and_masks_reduced/validation/{category}/*.jpg')\n",
    "\n",
    "    for image in images:\n",
    "        file_name = os.path.splitext(os.path.basename(image))[0]\n",
    "        masks = glob.glob(f'/home/ramaraja/lama/open-images/images_and_masks_reduced/validation/{category}/{file_name}*.png')\n",
    "\n",
    "        im1 = Image.open(image)\n",
    "\n",
    "        w = 512\n",
    "        h = 512\n",
    "        new_image = im1.resize((w, h))\n",
    "        new_image.save(image)\n",
    "        \n",
    "        for mask in masks:\n",
    "            im2 = Image.open(mask)\n",
    "            new_image = im2.resize((w, h))\n",
    "            new_image.save(mask)"
   ]
  },
  {
   "cell_type": "markdown",
   "id": "2cd0674e-e7f8-4015-a5a9-e553283530f3",
   "metadata": {},
   "source": [
    "#### Test"
   ]
  },
  {
   "cell_type": "code",
   "execution_count": null,
   "id": "fcb4332f-90da-4714-8464-2aea26e125b6",
   "metadata": {},
   "outputs": [],
   "source": [
    "import glob\n",
    "import os\n",
    "from PIL import Image\n",
    "\n",
    "for category in categories:\n",
    "    images = glob.glob(f'/home/ramaraja/lama/open-images/images_and_masks_reduced/test/{category}/*.jpg')\n",
    "\n",
    "    for image in images:\n",
    "        file_name = os.path.splitext(os.path.basename(image))[0]\n",
    "        masks = glob.glob(f'/home/ramaraja/lama/open-images/images_and_masks_reduced/test/{category}/{file_name}*.png')\n",
    "\n",
    "        im1 = Image.open(image)\n",
    "\n",
    "        w = 512\n",
    "        h = 512\n",
    "        new_image = im1.resize((w, h))\n",
    "        new_image.save(image)\n",
    "        \n",
    "        for mask in masks:\n",
    "            im2 = Image.open(mask)\n",
    "            new_image = im2.resize((w, h))\n",
    "            new_image.save(mask)"
   ]
  },
  {
   "cell_type": "markdown",
   "id": "f4e28b5e-0a21-419e-83f5-505effd78d84",
   "metadata": {},
   "source": [
    "#### Training"
   ]
  },
  {
   "cell_type": "code",
   "execution_count": null,
   "id": "bb517497-dc8c-4b22-932c-ace9328714ea",
   "metadata": {},
   "outputs": [],
   "source": [
    "import glob\n",
    "import os\n",
    "from PIL import Image\n",
    "\n",
    "for category in categories:\n",
    "    images = glob.glob(f'/home/ramaraja/lama/open-images/images_and_masks_reduced/train/{category}/*.jpg')\n",
    "\n",
    "    for image in images:\n",
    "        file_name = os.path.splitext(os.path.basename(image))[0]\n",
    "        masks = glob.glob(f'/home/ramaraja/lama/open-images/images_and_masks_reduced/train/{category}/{file_name}*.png')\n",
    "\n",
    "        im1 = Image.open(image)\n",
    "\n",
    "        w = 512\n",
    "        h = 512\n",
    "        new_image = im1.resize((w, h))\n",
    "        new_image.save(image)\n",
    "        \n",
    "        for mask in masks:\n",
    "            im2 = Image.open(mask)\n",
    "            new_image = im2.resize((w, h))\n",
    "            new_image.save(mask)"
   ]
  }
 ],
 "metadata": {
  "kernelspec": {
   "display_name": "Python 3 (ipykernel)",
   "language": "python",
   "name": "python3"
  },
  "language_info": {
   "codemirror_mode": {
    "name": "ipython",
    "version": 3
   },
   "file_extension": ".py",
   "mimetype": "text/x-python",
   "name": "python",
   "nbconvert_exporter": "python",
   "pygments_lexer": "ipython3",
   "version": "3.9.12"
  }
 },
 "nbformat": 4,
 "nbformat_minor": 5
}
